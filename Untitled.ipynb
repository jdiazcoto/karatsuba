{
 "cells": [
  {
   "cell_type": "markdown",
   "id": "42552717-4376-4c66-9cef-a93aeae1f8d8",
   "metadata": {},
   "source": [
    "## PSEUDO CODE\n",
    "    procedure karatsuba(num1, num2)\n",
    "     /*Base Case */\n",
    "     if (num1 < 10) or (num2 < 10)\n",
    "        return num1 × num2\n",
    "    \n",
    "     /* Calculates the size of the numbers. */\n",
    "     m = min(size_base10(num1), size_base10(num2))\n",
    "     m2 = floor(m / 2) \n",
    "     /* m2 = ceil(m / 2) will also work */\n",
    "    \n",
    "     /* Split the digit sequences in the middle. */\n",
    "     high1, low1 = split_at(num1, m2)\n",
    "     high2, low2 = split_at(num2, m2)\n",
    "    \n",
    "     /* 3 calls made to numbers approximately half the size. */\n",
    "     z0 = karatsuba(low1, low2)\n",
    "     z1 = karatsuba((low1 + high1), (low2 + high2))\n",
    "     z2 = karatsuba(high1, high2)\n",
    "    \n",
    "    return (z2 × 10 ^ (m2 × 2)) + ((z1 - z2 - z0) × 10 ^ m2) + z0"
   ]
  },
  {
   "cell_type": "code",
   "execution_count": 19,
   "id": "14afefdc-c935-4cdd-93ea-6cae2e41144f",
   "metadata": {},
   "outputs": [],
   "source": [
    "import math"
   ]
  },
  {
   "cell_type": "code",
   "execution_count": 29,
   "id": "b7411954-128e-47ec-a823-6c2b7cd16a77",
   "metadata": {},
   "outputs": [],
   "source": [
    "def lengthOfDigits(n): \n",
    "    if n > 0:\n",
    "        digits = int(math.log10(n))+1\n",
    "    elif n == 0:\n",
    "        digits = 1\n",
    "    else:\n",
    "        digits = int(math.log10(-n))+1 # +1 if you don't count the '-' \n",
    "    return digits"
   ]
  },
  {
   "cell_type": "code",
   "execution_count": 38,
   "id": "76e5bba5-27b2-43bb-a85f-bc8aff56cde5",
   "metadata": {},
   "outputs": [],
   "source": [
    "def karatsuba(num1,num2):\n",
    "    #Base Case\n",
    "    if num1 <10 or num2 <10:\n",
    "        return num1*num2\n",
    "    # Calculate the size of the numbers\n",
    "    m = max(lengthOfDigits(num1),lengthOfDigits(num2))\n",
    "    m2 = m//2\n",
    "    a = num1 // 10 **(m2)\n",
    "    b = num1 % 10**(m2)\n",
    "    c = num2 // 10**(m2)\n",
    "    d = %10**(m2)\n",
    "    \n",
    "    z0 = karatsuba(b,d)\n",
    "    z1 = karatsuba((a+b),(c+d))\n",
    "    z2 = karatsuba(a,c)\n",
    "    \n",
    "    return (z2 * 10**(2*m2)) + ((z1-z2-z0)*10**(m2)) + (z0)"
   ]
  },
  {
   "cell_type": "code",
   "execution_count": 39,
   "id": "d38503dd-42a1-4c27-aabc-a4c0d51f6f94",
   "metadata": {},
   "outputs": [
    {
     "ename": "TypeError",
     "evalue": "unsupported operand type(s) for //: 'NoneType' and 'int'",
     "output_type": "error",
     "traceback": [
      "\u001b[0;31m---------------------------------------------------------------------------\u001b[0m",
      "\u001b[0;31mTypeError\u001b[0m                                 Traceback (most recent call last)",
      "\u001b[0;32m<ipython-input-39-f2ca5673dcc9>\u001b[0m in \u001b[0;36m<module>\u001b[0;34m\u001b[0m\n\u001b[0;32m----> 1\u001b[0;31m \u001b[0mkaratsuba\u001b[0m\u001b[0;34m(\u001b[0m\u001b[0;36m5678\u001b[0m\u001b[0;34m,\u001b[0m\u001b[0;36m1234567\u001b[0m\u001b[0;34m)\u001b[0m\u001b[0;34m\u001b[0m\u001b[0;34m\u001b[0m\u001b[0m\n\u001b[0m",
      "\u001b[0;32m<ipython-input-38-a9cc10a73a64>\u001b[0m in \u001b[0;36mkaratsuba\u001b[0;34m(num1, num2)\u001b[0m\n\u001b[1;32m      6\u001b[0m     \u001b[0mm\u001b[0m \u001b[0;34m=\u001b[0m \u001b[0mmax\u001b[0m\u001b[0;34m(\u001b[0m\u001b[0mlengthOfDigits\u001b[0m\u001b[0;34m(\u001b[0m\u001b[0mnum1\u001b[0m\u001b[0;34m)\u001b[0m\u001b[0;34m,\u001b[0m\u001b[0mlengthOfDigits\u001b[0m\u001b[0;34m(\u001b[0m\u001b[0mnum2\u001b[0m\u001b[0;34m)\u001b[0m\u001b[0;34m)\u001b[0m\u001b[0;34m\u001b[0m\u001b[0;34m\u001b[0m\u001b[0m\n\u001b[1;32m      7\u001b[0m     \u001b[0mm2\u001b[0m \u001b[0;34m=\u001b[0m \u001b[0mm\u001b[0m\u001b[0;34m//\u001b[0m\u001b[0;36m2\u001b[0m\u001b[0;34m\u001b[0m\u001b[0;34m\u001b[0m\u001b[0m\n\u001b[0;32m----> 8\u001b[0;31m     \u001b[0ma\u001b[0m \u001b[0;34m=\u001b[0m \u001b[0mx\u001b[0m \u001b[0;34m//\u001b[0m \u001b[0;36m10\u001b[0m \u001b[0;34m**\u001b[0m\u001b[0;34m(\u001b[0m\u001b[0mm2\u001b[0m\u001b[0;34m)\u001b[0m\u001b[0;34m\u001b[0m\u001b[0;34m\u001b[0m\u001b[0m\n\u001b[0m\u001b[1;32m      9\u001b[0m     \u001b[0mb\u001b[0m \u001b[0;34m=\u001b[0m \u001b[0mx\u001b[0m \u001b[0;34m%\u001b[0m \u001b[0;36m10\u001b[0m\u001b[0;34m**\u001b[0m\u001b[0;34m(\u001b[0m\u001b[0mm2\u001b[0m\u001b[0;34m)\u001b[0m\u001b[0;34m\u001b[0m\u001b[0;34m\u001b[0m\u001b[0m\n\u001b[1;32m     10\u001b[0m     \u001b[0mc\u001b[0m \u001b[0;34m=\u001b[0m \u001b[0my\u001b[0m \u001b[0;34m//\u001b[0m \u001b[0;36m10\u001b[0m\u001b[0;34m**\u001b[0m\u001b[0;34m(\u001b[0m\u001b[0mm2\u001b[0m\u001b[0;34m)\u001b[0m\u001b[0;34m\u001b[0m\u001b[0;34m\u001b[0m\u001b[0m\n",
      "\u001b[0;31mTypeError\u001b[0m: unsupported operand type(s) for //: 'NoneType' and 'int'"
     ]
    }
   ],
   "source": [
    "karatsuba(5678,1234567)"
   ]
  },
  {
   "cell_type": "code",
   "execution_count": null,
   "id": "2af62600-3ecd-42d2-9565-ae2f976a66a5",
   "metadata": {},
   "outputs": [],
   "source": []
  }
 ],
 "metadata": {
  "kernelspec": {
   "display_name": "Python 3",
   "language": "python",
   "name": "python3"
  },
  "language_info": {
   "codemirror_mode": {
    "name": "ipython",
    "version": 3
   },
   "file_extension": ".py",
   "mimetype": "text/x-python",
   "name": "python",
   "nbconvert_exporter": "python",
   "pygments_lexer": "ipython3",
   "version": "3.8.5"
  }
 },
 "nbformat": 4,
 "nbformat_minor": 5
}
